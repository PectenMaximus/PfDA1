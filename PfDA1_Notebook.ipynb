{
 "cells": [
  {
   "cell_type": "markdown",
   "metadata": {},
   "source": [
    "# Programming for Data Analysis_ Assignment 1_ Alec Reid_ Student No: G00411003"
   ]
  },
  {
   "cell_type": "markdown",
   "metadata": {},
   "source": [
    "---------"
   ]
  },
  {
   "cell_type": "markdown",
   "metadata": {},
   "source": [
    "### Title:\n",
    "Oyster Spat Production Catalouging Against Temperature, Salinty and Moonphase"
   ]
  },
  {
   "cell_type": "markdown",
   "metadata": {},
   "source": [
    "-------------------------"
   ]
  },
  {
   "cell_type": "markdown",
   "metadata": {},
   "source": [
    "### Table of Contents:\n",
    "1. Title\n",
    "2. About\n",
    "3. Python Modules Utilised\n",
    "4. Generating Random Data Values\n",
    "5. Plotted Results for Full Moon Phase\n",
    "6. Plotted Results for Half Moon Phase\n",
    "7. Plotted Results for Quarter Moon Phase\n",
    "8. Conclusions\n",
    "9. References"
   ]
  },
  {
   "cell_type": "markdown",
   "metadata": {},
   "source": [
    "---------------------------"
   ]
  },
  {
   "cell_type": "markdown",
   "metadata": {},
   "source": [
    "### 2. About:\n",
    "\n",
    "Oysters prodcue spat (oyster larvae) which can be captured on spat collectors and used to supply stock for oyster reef construction. External environmental factors including Temperature, Salinity and Moonphase influence when oysters are stimulated to produce spat. This project aims to generate a system for identifying at which intervals each of the external environmental factors will result in high/medium/low oyster spat production and whether there are any correlations between these environemntal factors that result in high/medium/low oyster spat production.\n",
    "\n",
    "This project acheives the following:\n",
    "- Generates data using numpy for temperature, salinty, moonphase and oyster spat production.\n",
    "- Plots the results of temperature against salinity for each moonphase.\n",
    "- Colour codes the oyster spat production value for each temperature/salinty correlation - within each moonphase."
   ]
  },
  {
   "cell_type": "markdown",
   "metadata": {},
   "source": [
    "-------"
   ]
  },
  {
   "cell_type": "markdown",
   "metadata": {},
   "source": [
    "### 3. Python Modules Utilised:\n",
    "|Python Module| Description |\n",
    "|------|-------------|\n",
    "|**xarray**| A python package that allows you to work with multi-dimensional arrays (an array is a collection of items of the same data type stored at contiguos memory locations)|\n",
    "|**matplotlib**| is a comprehensive library for creating static, animated and interactive visualisations in python|\n",
    "|**numpy**| Is a python package that can generate random data|\n"
   ]
  },
  {
   "cell_type": "code",
   "execution_count": null,
   "metadata": {},
   "outputs": [],
   "source": [
    "# Import commands\n",
    "import numpy as np\n",
    "import random \n",
    "import matplotlib.pyplot as plt"
   ]
  },
  {
   "cell_type": "markdown",
   "metadata": {},
   "source": [
    "------------------"
   ]
  },
  {
   "cell_type": "markdown",
   "metadata": {},
   "source": [
    "### 4. Generating Random Data Values"
   ]
  },
  {
   "cell_type": "markdown",
   "metadata": {},
   "source": [
    "Declaring variables for MoonPhase and SpatProduction. Also outline the size of dataset to generate at 100. "
   ]
  },
  {
   "cell_type": "code",
   "execution_count": null,
   "metadata": {},
   "outputs": [],
   "source": [
    "# Declare variables\n",
    "MoonPhase = [\"Full\", \"Half\", \"Quarter\"]            \n",
    "SpatProduction = [\"High\", \"Medium\",\"Low\"]\n",
    "\n",
    "# Generating Random Moonphase\n",
    "MPRange = np.random.choice(MoonPhase, size=100)\n",
    "\n",
    "# Generating Random SpatProduction\n",
    "SpatRange = np.random.choice(SpatProduction, size=100)"
   ]
  },
  {
   "cell_type": "markdown",
   "metadata": {},
   "source": [
    "Defiine the ranges for Temperature and Salinty. Also outline the size of dataset to generate at 100. "
   ]
  },
  {
   "cell_type": "code",
   "execution_count": null,
   "metadata": {},
   "outputs": [],
   "source": [
    "# Define Temperature Range\n",
    "TempRange = np.random.default_rng(12345)\n",
    "Temp = TempRange.integers(low=7 , high=18, size=100)\n",
    "\n",
    "# Define Salinty Range\n",
    "SalinityRange = np.random.default_rng(12345)\n",
    "Sal = SalinityRange.integers(low=10 , high=35, size=100)"
   ]
  },
  {
   "cell_type": "markdown",
   "metadata": {},
   "source": [
    "Group the ranges for the environmental factors in a loop so that it displays all four data sets in a row 100 intervals."
   ]
  },
  {
   "cell_type": "code",
   "execution_count": null,
   "metadata": {},
   "outputs": [],
   "source": [
    "# Print the Full Range for all Results\n",
    "for iLoop in range (0, 99):\n",
    "    print(Temp[iLoop],Sal[iLoop],MPRange[iLoop],SpatRange[iLoop])"
   ]
  },
  {
   "cell_type": "markdown",
   "metadata": {},
   "source": [
    "---------------"
   ]
  },
  {
   "cell_type": "markdown",
   "metadata": {},
   "source": [
    "### 5. Plotting Results for Full Moon Phase"
   ]
  },
  {
   "cell_type": "markdown",
   "metadata": {},
   "source": [
    "Isolate the results for temperature, salinity and spat production for that occur during the full moon phase."
   ]
  },
  {
   "cell_type": "code",
   "execution_count": null,
   "metadata": {},
   "outputs": [],
   "source": [
    "# Temperature against Salinty for Full Moon \n",
    "MasterArray = np.array []\n",
    "for iLoop in range (0,99):\n",
    "    if (MPRange[iLoop]==\"Full\"):\n",
    "        print(Temp[iLoop],Sal[iLoop],MPRange[iLoop],SpatRange[iLoop])\n",
    "        FullMoonTemp = (Temp[iLoop])\n",
    "        FullMoonSal = (Sal[iLoop])\n",
    "        MasterArray = [Temp[iLoop],Sal[iLoop]]"
   ]
  },
  {
   "cell_type": "markdown",
   "metadata": {},
   "source": [
    "Plot the results for full moon phase."
   ]
  },
  {
   "cell_type": "code",
   "execution_count": null,
   "metadata": {},
   "outputs": [],
   "source": []
  },
  {
   "cell_type": "markdown",
   "metadata": {},
   "source": [
    "Plotted results for the full moon phase."
   ]
  },
  {
   "cell_type": "markdown",
   "metadata": {},
   "source": [
    "*Insert Image of plotted results for full moon phase*"
   ]
  },
  {
   "cell_type": "markdown",
   "metadata": {},
   "source": [
    "------------"
   ]
  },
  {
   "cell_type": "markdown",
   "metadata": {},
   "source": [
    "### 6. Plotting Results for Half Moon Phase"
   ]
  },
  {
   "cell_type": "markdown",
   "metadata": {},
   "source": [
    "--------------"
   ]
  },
  {
   "cell_type": "markdown",
   "metadata": {},
   "source": [
    "Isolate the results for temperature, salinity and spat production for that occur during the half moon phase."
   ]
  },
  {
   "cell_type": "code",
   "execution_count": null,
   "metadata": {},
   "outputs": [],
   "source": [
    "# Temperature against Salinty for Half Moon \n",
    "MasterArray = np.array []\n",
    "for iLoop in range (0,99):\n",
    "    if (MPRange[iLoop]==\"Half\"):\n",
    "        print(Temp[iLoop],Sal[iLoop],MPRange[iLoop],SpatRange[iLoop])\n",
    "        FullMoonTemp = (Temp[iLoop])\n",
    "        FullMoonSal = (Sal[iLoop])\n",
    "        MasterArray = [Temp[iLoop],Sal[iLoop]]"
   ]
  },
  {
   "cell_type": "markdown",
   "metadata": {},
   "source": [
    "Plotted results for the half moon phase."
   ]
  },
  {
   "cell_type": "markdown",
   "metadata": {},
   "source": [
    "*Insert Image of plotted results for half moon phase*"
   ]
  },
  {
   "cell_type": "markdown",
   "metadata": {},
   "source": [
    "### 7. Plotting Results for Quarter Moon Phase"
   ]
  },
  {
   "cell_type": "markdown",
   "metadata": {},
   "source": [
    "Isolate the results for temperature, salinity and spat production for that occur during the quarter moon phase."
   ]
  },
  {
   "cell_type": "code",
   "execution_count": null,
   "metadata": {},
   "outputs": [],
   "source": [
    "# Temperature against Salinty for Quarter Moon \n",
    "MasterArray = np.array []\n",
    "for iLoop in range (0,99):\n",
    "    if (MPRange[iLoop]==\"Quarter\"):\n",
    "        print(Temp[iLoop],Sal[iLoop],MPRange[iLoop],SpatRange[iLoop])\n",
    "        FullMoonTemp = (Temp[iLoop])\n",
    "        FullMoonSal = (Sal[iLoop])\n",
    "        MasterArray = [Temp[iLoop],Sal[iLoop]]"
   ]
  },
  {
   "cell_type": "markdown",
   "metadata": {},
   "source": [
    "Plotted results for the quarter moon phase."
   ]
  },
  {
   "cell_type": "markdown",
   "metadata": {},
   "source": [
    "*Insert Image of plotted results for half moon phase*"
   ]
  },
  {
   "cell_type": "markdown",
   "metadata": {},
   "source": [
    "-------------"
   ]
  },
  {
   "cell_type": "markdown",
   "metadata": {},
   "source": [
    "### 8. Conclusion\n",
    "text"
   ]
  },
  {
   "cell_type": "markdown",
   "metadata": {},
   "source": [
    "----------------"
   ]
  },
  {
   "cell_type": "markdown",
   "metadata": {},
   "source": [
    "### 9. References\n",
    "text"
   ]
  }
 ],
 "metadata": {
  "kernelspec": {
   "display_name": "Python 3",
   "language": "python",
   "name": "python3"
  },
  "language_info": {
   "name": "python",
   "version": "3.11.7"
  }
 },
 "nbformat": 4,
 "nbformat_minor": 2
}
